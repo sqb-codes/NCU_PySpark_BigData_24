{
 "cells": [
  {
   "cell_type": "code",
   "execution_count": 39,
   "id": "def957d3-52b9-4fe5-a30b-fb2e150c188c",
   "metadata": {},
   "outputs": [],
   "source": [
    "from pyspark.sql import SparkSession\n",
    "import pyspark.sql.functions as fun\n",
    "from pyspark.sql.functions import col\n",
    "from pyspark.ml.regression import LinearRegression\n",
    "from pyspark.ml.feature import VectorAssembler\n",
    "from pyspark.ml import pipeline"
   ]
  },
  {
   "cell_type": "code",
   "execution_count": 4,
   "id": "72aa548f-d2b5-40eb-8e7f-bd66a70cfc09",
   "metadata": {},
   "outputs": [
    {
     "name": "stderr",
     "output_type": "stream",
     "text": [
      "24/10/24 16:46:42 WARN Utils: Your hostname, Ravikants-MacBook-Pro.local resolves to a loopback address: 127.0.0.1; using 10.12.13.156 instead (on interface en0)\n",
      "24/10/24 16:46:42 WARN Utils: Set SPARK_LOCAL_IP if you need to bind to another address\n",
      "Setting default log level to \"WARN\".\n",
      "To adjust logging level use sc.setLogLevel(newLevel). For SparkR, use setLogLevel(newLevel).\n",
      "24/10/24 16:46:42 WARN NativeCodeLoader: Unable to load native-hadoop library for your platform... using builtin-java classes where applicable\n",
      "24/10/24 16:46:43 WARN Utils: Service 'SparkUI' could not bind on port 4040. Attempting port 4041.\n",
      "24/10/24 16:46:43 WARN Utils: Service 'SparkUI' could not bind on port 4041. Attempting port 4042.\n",
      "24/10/24 16:46:43 WARN Utils: Service 'SparkUI' could not bind on port 4042. Attempting port 4043.\n"
     ]
    }
   ],
   "source": [
    "spark = SparkSession.builder.master(\"local[2]\").appName(\"ml_example\").getOrCreate()"
   ]
  },
  {
   "cell_type": "code",
   "execution_count": 19,
   "id": "ecf5db02-d8bc-44e2-bfae-c28d13c353d9",
   "metadata": {},
   "outputs": [],
   "source": [
    "df = spark.read.csv(\"headbrain.csv\", header=True)"
   ]
  },
  {
   "cell_type": "code",
   "execution_count": 21,
   "id": "d483a178-2031-43ca-9949-f51fe083f9a2",
   "metadata": {},
   "outputs": [
    {
     "name": "stdout",
     "output_type": "stream",
     "text": [
      "root\n",
      " |-- Gender: string (nullable = true)\n",
      " |-- Age Range: string (nullable = true)\n",
      " |-- Head Size(cm^3): string (nullable = true)\n",
      " |-- Brain Weight(grams): string (nullable = true)\n",
      "\n"
     ]
    }
   ],
   "source": [
    "df.printSchema()"
   ]
  },
  {
   "cell_type": "code",
   "execution_count": 23,
   "id": "9178d0c1-8ad7-4933-8871-84805b241be1",
   "metadata": {},
   "outputs": [
    {
     "name": "stdout",
     "output_type": "stream",
     "text": [
      "+------+---------+---------------+-------------------+\n",
      "|Gender|Age Range|Head Size(cm^3)|Brain Weight(grams)|\n",
      "+------+---------+---------------+-------------------+\n",
      "|     1|        1|           4512|               1530|\n",
      "|     1|        1|           3738|               1297|\n",
      "|     1|        1|           4261|               1335|\n",
      "|     1|        1|           3777|               1282|\n",
      "|     1|        1|           4177|               1590|\n",
      "+------+---------+---------------+-------------------+\n",
      "only showing top 5 rows\n",
      "\n"
     ]
    }
   ],
   "source": [
    "df.show(5)"
   ]
  },
  {
   "cell_type": "code",
   "execution_count": 25,
   "id": "ef4ab490-d8f5-4678-a359-5a453f318f27",
   "metadata": {},
   "outputs": [
    {
     "data": {
      "text/plain": [
       "(237, 4)"
      ]
     },
     "execution_count": 25,
     "metadata": {},
     "output_type": "execute_result"
    }
   ],
   "source": [
    "df.count(), len(df.columns)"
   ]
  },
  {
   "cell_type": "code",
   "execution_count": 27,
   "id": "74eaf471-5679-47ee-b123-e5e6092425e4",
   "metadata": {},
   "outputs": [
    {
     "name": "stdout",
     "output_type": "stream",
     "text": [
      "+-------+------------------+-------------------+\n",
      "|summary|   Head Size(cm^3)|Brain Weight(grams)|\n",
      "+-------+------------------+-------------------+\n",
      "|  count|               237|                237|\n",
      "|   mean|3633.9915611814345|  1282.873417721519|\n",
      "| stddev| 365.2614224198132| 120.34044578645734|\n",
      "|    min|              2720|               1012|\n",
      "|    max|              4747|                955|\n",
      "+-------+------------------+-------------------+\n",
      "\n"
     ]
    }
   ],
   "source": [
    "df.select(\"Head Size(cm^3)\", \"Brain Weight(grams)\").describe().show()"
   ]
  },
  {
   "cell_type": "code",
   "execution_count": 49,
   "id": "facc6c20-7572-4e99-8fe0-a55c63125459",
   "metadata": {},
   "outputs": [],
   "source": [
    "df = df.select(*(col(c).cast(\"Integer\") for c in df.columns))"
   ]
  },
  {
   "cell_type": "code",
   "execution_count": 51,
   "id": "e5bbbaf6-cd22-41e7-a4b6-c59cd309bbdb",
   "metadata": {},
   "outputs": [
    {
     "name": "stdout",
     "output_type": "stream",
     "text": [
      "root\n",
      " |-- Gender: integer (nullable = true)\n",
      " |-- Age Range: integer (nullable = true)\n",
      " |-- Head Size(cm^3): integer (nullable = true)\n",
      " |-- Brain Weight(grams): integer (nullable = true)\n",
      "\n"
     ]
    }
   ],
   "source": [
    "df.printSchema()"
   ]
  },
  {
   "cell_type": "code",
   "execution_count": 53,
   "id": "c1ecec33-371e-4897-8ab8-e8ab69cd7802",
   "metadata": {},
   "outputs": [],
   "source": [
    "features = df.drop(*[\"Gender\", \"Age Range\"])"
   ]
  },
  {
   "cell_type": "code",
   "execution_count": 55,
   "id": "d4d61fda-0118-4566-be18-53ff3447e065",
   "metadata": {},
   "outputs": [
    {
     "name": "stdout",
     "output_type": "stream",
     "text": [
      "+---------------+-------------------+\n",
      "|Head Size(cm^3)|Brain Weight(grams)|\n",
      "+---------------+-------------------+\n",
      "|           4512|               1530|\n",
      "|           3738|               1297|\n",
      "|           4261|               1335|\n",
      "|           3777|               1282|\n",
      "|           4177|               1590|\n",
      "+---------------+-------------------+\n",
      "only showing top 5 rows\n",
      "\n"
     ]
    }
   ],
   "source": [
    "features.show(5)"
   ]
  },
  {
   "cell_type": "code",
   "execution_count": 57,
   "id": "5e425aa1-1d77-44b7-a1ea-7e42409b1a39",
   "metadata": {},
   "outputs": [],
   "source": [
    "X = features.drop(\"Brain Weight(grams)\")"
   ]
  },
  {
   "cell_type": "code",
   "execution_count": 59,
   "id": "fe6e696e-f84a-4a4d-90e9-eb06f8fa373a",
   "metadata": {},
   "outputs": [
    {
     "name": "stdout",
     "output_type": "stream",
     "text": [
      "+---------------+\n",
      "|Head Size(cm^3)|\n",
      "+---------------+\n",
      "|           4512|\n",
      "|           3738|\n",
      "|           4261|\n",
      "|           3777|\n",
      "|           4177|\n",
      "+---------------+\n",
      "only showing top 5 rows\n",
      "\n"
     ]
    }
   ],
   "source": [
    "X.show(5)"
   ]
  },
  {
   "cell_type": "code",
   "execution_count": 61,
   "id": "a45152bb-d130-4a94-b2f7-cf5d5bf1e27c",
   "metadata": {},
   "outputs": [],
   "source": [
    "assembler = VectorAssembler(inputCols=X.columns, outputCol='features')"
   ]
  },
  {
   "cell_type": "code",
   "execution_count": 63,
   "id": "1f704d8e-2209-4bca-abeb-dee41b8d284d",
   "metadata": {},
   "outputs": [],
   "source": [
    "output = assembler.transform(features).select(\"features\", \"Brain Weight(grams)\")"
   ]
  },
  {
   "cell_type": "code",
   "execution_count": 65,
   "id": "d4870336-7da8-453a-ba40-9f25cdec4966",
   "metadata": {},
   "outputs": [
    {
     "name": "stdout",
     "output_type": "stream",
     "text": [
      "+--------+-------------------+\n",
      "|features|Brain Weight(grams)|\n",
      "+--------+-------------------+\n",
      "|[4512.0]|               1530|\n",
      "|[3738.0]|               1297|\n",
      "|[4261.0]|               1335|\n",
      "|[3777.0]|               1282|\n",
      "|[4177.0]|               1590|\n",
      "+--------+-------------------+\n",
      "only showing top 5 rows\n",
      "\n"
     ]
    }
   ],
   "source": [
    "output.show(5)"
   ]
  },
  {
   "cell_type": "code",
   "execution_count": 67,
   "id": "fc0870b7-1c86-424b-8258-2e61a3d2db19",
   "metadata": {},
   "outputs": [
    {
     "name": "stderr",
     "output_type": "stream",
     "text": [
      "24/10/24 17:03:44 WARN Instrumentation: [2b6e2623] regParam is zero, which might cause numerical instability and overfitting.\n",
      "24/10/24 17:03:44 WARN InstanceBuilder: Failed to load implementation from:dev.ludovic.netlib.blas.JNIBLAS\n",
      "24/10/24 17:03:44 WARN InstanceBuilder: Failed to load implementation from:dev.ludovic.netlib.blas.VectorBLAS\n",
      "24/10/24 17:03:44 WARN InstanceBuilder: Failed to load implementation from:dev.ludovic.netlib.lapack.JNILAPACK\n"
     ]
    }
   ],
   "source": [
    "regression = LinearRegression(featuresCol='features', labelCol='Brain Weight(grams)')\n",
    "regression_model = regression.fit(output)"
   ]
  },
  {
   "cell_type": "code",
   "execution_count": 69,
   "id": "bc53928b-7cd8-4244-9940-e0aaeb9253d9",
   "metadata": {},
   "outputs": [
    {
     "data": {
      "text/plain": [
       "DenseVector([0.2634])"
      ]
     },
     "execution_count": 69,
     "metadata": {},
     "output_type": "execute_result"
    }
   ],
   "source": [
    "regression_model.coefficients"
   ]
  },
  {
   "cell_type": "code",
   "execution_count": 71,
   "id": "c9400d09-c4ca-484b-a709-4fc4ec5ced2b",
   "metadata": {},
   "outputs": [
    {
     "data": {
      "text/plain": [
       "325.5734210494322"
      ]
     },
     "execution_count": 71,
     "metadata": {},
     "output_type": "execute_result"
    }
   ],
   "source": [
    "regression_model.intercept"
   ]
  },
  {
   "cell_type": "code",
   "execution_count": 75,
   "id": "5cd25f6a-e333-4f9d-bc5e-7e9ccb61022f",
   "metadata": {},
   "outputs": [
    {
     "data": {
      "text/plain": [
       "0.6393117199570006"
      ]
     },
     "execution_count": 75,
     "metadata": {},
     "output_type": "execute_result"
    }
   ],
   "source": [
    "regression_model.summary.r2"
   ]
  },
  {
   "cell_type": "code",
   "execution_count": 77,
   "id": "f5b60ec0-f843-4716-b1b1-c443dc377f1e",
   "metadata": {},
   "outputs": [
    {
     "data": {
      "text/plain": [
       "72.12062137837093"
      ]
     },
     "execution_count": 77,
     "metadata": {},
     "output_type": "execute_result"
    }
   ],
   "source": [
    "regression_model.summary.rootMeanSquaredError"
   ]
  },
  {
   "cell_type": "code",
   "execution_count": null,
   "id": "4c8c339a-9f90-4866-af1d-3f7985b49b2f",
   "metadata": {},
   "outputs": [],
   "source": []
  }
 ],
 "metadata": {
  "kernelspec": {
   "display_name": "Python 3 (ipykernel)",
   "language": "python",
   "name": "python3"
  },
  "language_info": {
   "codemirror_mode": {
    "name": "ipython",
    "version": 3
   },
   "file_extension": ".py",
   "mimetype": "text/x-python",
   "name": "python",
   "nbconvert_exporter": "python",
   "pygments_lexer": "ipython3",
   "version": "3.12.4"
  }
 },
 "nbformat": 4,
 "nbformat_minor": 5
}
